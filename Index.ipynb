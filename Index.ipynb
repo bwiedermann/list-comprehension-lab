{
 "cells": [
  {
   "cell_type": "markdown",
   "id": "a8c38937",
   "metadata": {},
   "source": [
    "# Python list-comprehension lab\n",
    "\n",
    "We will implement a few functions that will help us decrypt a secret message! All the functions we implement will use Python list comprehensions."
   ]
  },
  {
   "cell_type": "markdown",
   "id": "02e05e34",
   "metadata": {},
   "source": [
    "## The secret message\n",
    "Below is the secret message, encoded as a list of numbers, and stored in the variable `NUMBERS`"
   ]
  },
  {
   "cell_type": "code",
   "execution_count": 1,
   "id": "56469f18",
   "metadata": {},
   "outputs": [],
   "source": [
    "NUMBERS = [\n",
    "  4, 42, 96, 108, 105, 42, 103, 42, 26, 98, 110, 42, 110, 42, 106, 109, 42, 52,\n",
    "  42, 41, 42, 41, 42, 113, 42, 113, 113, 40, 42, 91, 109, 42, 93, 42, 99, 42,\n",
    "  99, 42, 91, 42, 108, 110, 42, 40, 42, 95, 42, 111, 41, 42, 91, 42, 104, 99,\n",
    "  42, 103, 91, 102, 109, 42, 41, 42, 105, 42, 110, 42, 98, 95, 108, 39, 42,\n",
    "  113, 42, 91, 42, 110, 42, 95, 108, 42, 4, 42, 26, 42, 26, 42, 26, 42, 26, 42,\n",
    "  26, 42, 26, 26, 42, 26, 26, 26, 26, 42, 89, 42, 40, 42, 39, 42, 26, 120, 42,\n",
    "  120, 42, 88, 88, 88, 33, 42, 120, 42, 39, 26, 42, 89, 42, 26, 89, 42, 89, 42,\n",
    "  26, 40, 42, 38, 42, 40, 42, 39, 42, 26, 42, 120, 42, 26, 120, 26, 120, 26,\n",
    "  42, 26, 120, 42, 26, 26, 39, 42, 40, 42, 26, 89, 4, 42, 26, 42, 89, 42, 89,\n",
    "  42, 89, 42, 89, 42, 89, 89, 42, 89, 89, 38, 33, 42, 26, 26, 26, 26, 42, 26,\n",
    "  42, 26, 26, 42, 52, 52, 42, 40, 26, 42, 26, 42, 26, 26, 26, 42, 26, 42, 26,\n",
    "  26, 42, 26, 42, 26, 42, 26, 42, 26, 42, 26, 42, 26, 26, 42, 26, 26, 42, 26,\n",
    "  26, 42, 26, 26, 26, 42, 26, 89, 38, 42, 39, 26, 26, 42, 120, 42, 26, 39, 42,\n",
    "  40, 42, 4, 42, 34, 42, 34, 42, 26, 26, 42, 26, 26, 26, 26, 120, 89, 86, 42,\n",
    "  26, 42, 26, 42, 26, 39, 42, 109, 39, 42, 26, 42, 26, 42, 52, 42, 52, 26, 42,\n",
    "  26, 26, 42, 26, 26, 26, 26, 26, 42, 26, 26, 26, 26, 42, 26, 42, 26, 26, 26,\n",
    "  26, 42, 26, 42, 26, 42, 26, 26, 42, 38, 42, 33, 26, 26, 42, 26, 42, 26, 42,\n",
    "  26, 26, 42, 26, 42, 26, 42, 26, 42, 26, 53, 42, 38, 4, 42, 26, 42, 86, 26,\n",
    "  42, 26, 26, 26, 42, 26, 42, 26, 42, 26, 42, 54, 40, 42, 40, 89, 26, 42, 40,\n",
    "  42, 53, 53, 42, 53, 42, 90, 26, 26, 26, 42, 26, 42, 26, 42, 26, 26, 26, 26,\n",
    "  42, 26, 42, 26, 26, 42, 26, 42, 26, 42, 26, 26, 26, 42, 26, 42, 26, 42, 26,\n",
    "  42, 26, 42, 53, 26, 26, 42, 26, 42, 26, 26, 42, 26, 26, 26, 42, 26, 42, 26,\n",
    "  42, 26, 119, 42, 26, 42, 26, 42, 90, 42, 33, 42, 38, 4, 26, 42, 26, 42, 90,\n",
    "  42, 90, 42, 55, 55, 55, 55, 42, 55, 55, 55, 33, 26, 42, 26, 42, 26, 26, 89,\n",
    "  42, 26, 89, 42, 39, 26, 42, 89, 42, 26, 42, 34, 26, 42, 26, 42, 26, 42, 119,\n",
    "  26, 42, 26, 42, 26, 26, 26, 42, 26, 26, 42, 26, 26, 26, 42, 26, 42, 26, 42,\n",
    "  26, 42, 90, 42, 38, 26, 42, 26, 42, 26, 26, 42, 26, 26, 26, 26, 42, 26, 42,\n",
    "  26, 38, 42, 33, 86, 42, 38, 42, 26, 26, 90, 42, 38, 4, 42, 26, 26, 26, 26,\n",
    "  42, 26, 42, 26, 42, 26, 26, 26, 26, 26, 26, 42, 26, 26, 26, 42, 34, 42, 34,\n",
    "  41, 42, 26, 42, 89, 42, 26, 42, 89, 42, 38, 99, 26, 26, 42, 26, 42, 27, 42,\n",
    "  26, 42, 89, 26, 120, 42, 26, 39, 26, 42, 39, 42, 39, 42, 26, 39, 42, 26, 89,\n",
    "  42, 26, 42, 89, 42, 33, 42, 89, 42, 39, 89, 42, 38, 89, 42, 38, 38, 42, 38,\n",
    "  42, 33, 42, 26, 26, 26, 42, 26, 86, 42, 38, 42, 26, 42, 26, 42, 53, 4, 42,\n",
    "  26, 42, 26, 26, 42, 26, 42, 26, 26, 42, 26, 42, 93, 42, 96, 42, 92, 42, 94,\n",
    "  42, 26, 42, 26, 42, 26, 26, 42, 26, 42, 26, 42, 26, 42, 34, 34, 42, 34, 34,\n",
    "  42, 89, 42, 89, 89, 89, 41, 42, 26, 26, 42, 26, 42, 26, 42, 26, 26, 42, 26,\n",
    "  42, 26, 26, 26, 26, 42, 26, 42, 34, 42, 38, 42, 34, 38, 42, 34, 42, 38, 42,\n",
    "  26, 42, 89, 89, 42, 89, 89, 42, 56, 42, 26, 26, 26, 42, 26, 42, 26, 42, 26,\n",
    "  26, 42, 26, 86, 42, 38, 42, 33, 42, 4\n",
    "]"
   ]
  },
  {
   "cell_type": "markdown",
   "id": "1568cea1",
   "metadata": {},
   "source": [
    "## The functions to implement\n",
    "Use list comprehensions to implement each of the functions below."
   ]
  },
  {
   "cell_type": "code",
   "execution_count": 2,
   "id": "736d90a2",
   "metadata": {},
   "outputs": [],
   "source": [
    "def add_6(nums):\n",
    "  '''Given a list of numbers, return a new list where each number in the input list is increased by 6'''\n",
    "\n",
    "  return nums  # replace with your implementation"
   ]
  },
  {
   "cell_type": "code",
   "execution_count": 3,
   "id": "e97d3056",
   "metadata": {},
   "outputs": [],
   "source": [
    "def to_chars(nums):\n",
    "  '''Given a list of numbers, return a list of characters, created by calling the function chr on each number'''\n",
    "  return nums  # replace with your implementation"
   ]
  },
  {
   "cell_type": "code",
   "execution_count": 4,
   "id": "61d90591",
   "metadata": {},
   "outputs": [],
   "source": [
    "def remove_0(chars):\n",
    "  '''Given a list of characters, return a new list with the character '0' filtered out'''\n",
    "  return chars  # replace with your implementation"
   ]
  },
  {
   "cell_type": "markdown",
   "id": "d90ba319",
   "metadata": {},
   "source": [
    "## An additional function\n",
    "This function uses the builtin string method `join` to make a string from a list of characters"
   ]
  },
  {
   "cell_type": "code",
   "execution_count": 5,
   "id": "ea451ac3",
   "metadata": {},
   "outputs": [],
   "source": [
    "def make_message(chars):\n",
    "  '''Turns a list of characters into a string'''\n",
    "  return ''.join(chars)"
   ]
  },
  {
   "cell_type": "markdown",
   "id": "46f37926",
   "metadata": {},
   "source": [
    "## Decoding the message\n",
    "In the code cell below, perform the following steps:\n",
    "1. Call `add_6` on `NUMBERS`\n",
    "2. Call `to_chr` on the result of the previous step\n",
    "3. Call `remove_0` on the result of the previous step\n",
    "4. Call `make_messag`e on the result of the previous step\n",
    "5. `print` the result of the previous step"
   ]
  },
  {
   "cell_type": "code",
   "execution_count": null,
   "id": "d2f6ff70",
   "metadata": {},
   "outputs": [],
   "source": []
  }
 ],
 "metadata": {
  "kernelspec": {
   "display_name": "Python 3 (ipykernel)",
   "language": "python",
   "name": "python3"
  },
  "language_info": {
   "codemirror_mode": {
    "name": "ipython",
    "version": 3
   },
   "file_extension": ".py",
   "mimetype": "text/x-python",
   "name": "python",
   "nbconvert_exporter": "python",
   "pygments_lexer": "ipython3",
   "version": "3.10.4"
  }
 },
 "nbformat": 4,
 "nbformat_minor": 5
}
